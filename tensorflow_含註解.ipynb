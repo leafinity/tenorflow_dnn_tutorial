{
 "cells": [
  {
   "cell_type": "markdown",
   "metadata": {},
   "source": [
    "# 手把手來刻 tensoeflow model"
   ]
  },
  {
   "cell_type": "code",
   "execution_count": 1,
   "metadata": {},
   "outputs": [
    {
     "name": "stderr",
     "output_type": "stream",
     "text": [
      "/opt/conda/lib/python3.6/site-packages/h5py/__init__.py:36: FutureWarning: Conversion of the second argument of issubdtype from `float` to `np.floating` is deprecated. In future, it will be treated as `np.float64 == np.dtype(float).type`.\n",
      "  from ._conv import register_converters as _register_converters\n"
     ]
    }
   ],
   "source": [
    "import time\n",
    "import os\n",
    "import numpy as np\n",
    "import tensorflow as tf\n",
    "from tqdm import tqdm_notebook\n",
    "import matplotlib.pyplot as plt\n",
    "import pandas as pd"
   ]
  },
  {
   "cell_type": "markdown",
   "metadata": {},
   "source": [
    "# 使用第一張 GPU\n",
    "\n",
    "預設本來就會使用第一張gpu (編號為0)，之後做專題時可以開多個 gpu，如果要同時 train 多個模型必須指定要用第幾張，否則所有程式都會執行第一張，導致後面執行的程式拿不到 gpu 無法執行。"
   ]
  },
  {
   "cell_type": "code",
   "execution_count": 2,
   "metadata": {},
   "outputs": [],
   "source": [
    "import os\n",
    "os.environ[\"CUDA_VISIBLE_DEVICES\"] = \"0\""
   ]
  },
  {
   "cell_type": "markdown",
   "metadata": {},
   "source": [
    "# 讀入資料\n",
    "\n",
    "可以用 index_col = 0, 讓 id 變成 index，在取用時就不用用 .iloc[:, :1] 來避開 id"
   ]
  },
  {
   "cell_type": "code",
   "execution_count": 3,
   "metadata": {},
   "outputs": [],
   "source": [
    "df_train = pd.read_csv('data/train.csv', index_col=0)"
   ]
  },
  {
   "cell_type": "code",
   "execution_count": 4,
   "metadata": {},
   "outputs": [
    {
     "data": {
      "text/html": [
       "<div>\n",
       "<style scoped>\n",
       "    .dataframe tbody tr th:only-of-type {\n",
       "        vertical-align: middle;\n",
       "    }\n",
       "\n",
       "    .dataframe tbody tr th {\n",
       "        vertical-align: top;\n",
       "    }\n",
       "\n",
       "    .dataframe thead th {\n",
       "        text-align: right;\n",
       "    }\n",
       "</style>\n",
       "<table border=\"1\" class=\"dataframe\">\n",
       "  <thead>\n",
       "    <tr style=\"text-align: right;\">\n",
       "      <th></th>\n",
       "      <th>Elevation</th>\n",
       "      <th>Aspect</th>\n",
       "      <th>Slope</th>\n",
       "      <th>Horizontal_Distance_To_Hydrology</th>\n",
       "      <th>Vertical_Distance_To_Hydrology</th>\n",
       "      <th>Horizontal_Distance_To_Roadways</th>\n",
       "      <th>Hillshade_9am</th>\n",
       "      <th>Hillshade_Noon</th>\n",
       "      <th>Hillshade_3pm</th>\n",
       "      <th>Horizontal_Distance_To_Fire_Points</th>\n",
       "      <th>...</th>\n",
       "      <th>Soil_Type32</th>\n",
       "      <th>Soil_Type33</th>\n",
       "      <th>Soil_Type34</th>\n",
       "      <th>Soil_Type35</th>\n",
       "      <th>Soil_Type36</th>\n",
       "      <th>Soil_Type37</th>\n",
       "      <th>Soil_Type38</th>\n",
       "      <th>Soil_Type39</th>\n",
       "      <th>Soil_Type40</th>\n",
       "      <th>Cover_Type</th>\n",
       "    </tr>\n",
       "    <tr>\n",
       "      <th>Id</th>\n",
       "      <th></th>\n",
       "      <th></th>\n",
       "      <th></th>\n",
       "      <th></th>\n",
       "      <th></th>\n",
       "      <th></th>\n",
       "      <th></th>\n",
       "      <th></th>\n",
       "      <th></th>\n",
       "      <th></th>\n",
       "      <th></th>\n",
       "      <th></th>\n",
       "      <th></th>\n",
       "      <th></th>\n",
       "      <th></th>\n",
       "      <th></th>\n",
       "      <th></th>\n",
       "      <th></th>\n",
       "      <th></th>\n",
       "      <th></th>\n",
       "      <th></th>\n",
       "    </tr>\n",
       "  </thead>\n",
       "  <tbody>\n",
       "    <tr>\n",
       "      <th>832ff325-90ce-40e3-8c74-42b679b99e5c</th>\n",
       "      <td>2941</td>\n",
       "      <td>32</td>\n",
       "      <td>4</td>\n",
       "      <td>108</td>\n",
       "      <td>12</td>\n",
       "      <td>3369</td>\n",
       "      <td>219</td>\n",
       "      <td>230</td>\n",
       "      <td>147</td>\n",
       "      <td>2574</td>\n",
       "      <td>...</td>\n",
       "      <td>0</td>\n",
       "      <td>0</td>\n",
       "      <td>0</td>\n",
       "      <td>0</td>\n",
       "      <td>0</td>\n",
       "      <td>0</td>\n",
       "      <td>0</td>\n",
       "      <td>0</td>\n",
       "      <td>0</td>\n",
       "      <td>2</td>\n",
       "    </tr>\n",
       "    <tr>\n",
       "      <th>6ea6b99e-c247-40d9-87fe-345aab8e87a4</th>\n",
       "      <td>2304</td>\n",
       "      <td>20</td>\n",
       "      <td>19</td>\n",
       "      <td>350</td>\n",
       "      <td>141</td>\n",
       "      <td>1423</td>\n",
       "      <td>203</td>\n",
       "      <td>195</td>\n",
       "      <td>124</td>\n",
       "      <td>939</td>\n",
       "      <td>...</td>\n",
       "      <td>0</td>\n",
       "      <td>0</td>\n",
       "      <td>0</td>\n",
       "      <td>0</td>\n",
       "      <td>0</td>\n",
       "      <td>0</td>\n",
       "      <td>0</td>\n",
       "      <td>0</td>\n",
       "      <td>0</td>\n",
       "      <td>3</td>\n",
       "    </tr>\n",
       "    <tr>\n",
       "      <th>d28eb06b-19e6-4951-8845-3c7f1484393e</th>\n",
       "      <td>3397</td>\n",
       "      <td>157</td>\n",
       "      <td>13</td>\n",
       "      <td>458</td>\n",
       "      <td>46</td>\n",
       "      <td>2255</td>\n",
       "      <td>234</td>\n",
       "      <td>241</td>\n",
       "      <td>136</td>\n",
       "      <td>474</td>\n",
       "      <td>...</td>\n",
       "      <td>0</td>\n",
       "      <td>0</td>\n",
       "      <td>0</td>\n",
       "      <td>0</td>\n",
       "      <td>0</td>\n",
       "      <td>0</td>\n",
       "      <td>1</td>\n",
       "      <td>0</td>\n",
       "      <td>0</td>\n",
       "      <td>7</td>\n",
       "    </tr>\n",
       "  </tbody>\n",
       "</table>\n",
       "<p>3 rows × 55 columns</p>\n",
       "</div>"
      ],
      "text/plain": [
       "                                      Elevation  Aspect  Slope  \\\n",
       "Id                                                               \n",
       "832ff325-90ce-40e3-8c74-42b679b99e5c       2941      32      4   \n",
       "6ea6b99e-c247-40d9-87fe-345aab8e87a4       2304      20     19   \n",
       "d28eb06b-19e6-4951-8845-3c7f1484393e       3397     157     13   \n",
       "\n",
       "                                      Horizontal_Distance_To_Hydrology  \\\n",
       "Id                                                                       \n",
       "832ff325-90ce-40e3-8c74-42b679b99e5c                               108   \n",
       "6ea6b99e-c247-40d9-87fe-345aab8e87a4                               350   \n",
       "d28eb06b-19e6-4951-8845-3c7f1484393e                               458   \n",
       "\n",
       "                                      Vertical_Distance_To_Hydrology  \\\n",
       "Id                                                                     \n",
       "832ff325-90ce-40e3-8c74-42b679b99e5c                              12   \n",
       "6ea6b99e-c247-40d9-87fe-345aab8e87a4                             141   \n",
       "d28eb06b-19e6-4951-8845-3c7f1484393e                              46   \n",
       "\n",
       "                                      Horizontal_Distance_To_Roadways  \\\n",
       "Id                                                                      \n",
       "832ff325-90ce-40e3-8c74-42b679b99e5c                             3369   \n",
       "6ea6b99e-c247-40d9-87fe-345aab8e87a4                             1423   \n",
       "d28eb06b-19e6-4951-8845-3c7f1484393e                             2255   \n",
       "\n",
       "                                      Hillshade_9am  Hillshade_Noon  \\\n",
       "Id                                                                    \n",
       "832ff325-90ce-40e3-8c74-42b679b99e5c            219             230   \n",
       "6ea6b99e-c247-40d9-87fe-345aab8e87a4            203             195   \n",
       "d28eb06b-19e6-4951-8845-3c7f1484393e            234             241   \n",
       "\n",
       "                                      Hillshade_3pm  \\\n",
       "Id                                                    \n",
       "832ff325-90ce-40e3-8c74-42b679b99e5c            147   \n",
       "6ea6b99e-c247-40d9-87fe-345aab8e87a4            124   \n",
       "d28eb06b-19e6-4951-8845-3c7f1484393e            136   \n",
       "\n",
       "                                      Horizontal_Distance_To_Fire_Points  \\\n",
       "Id                                                                         \n",
       "832ff325-90ce-40e3-8c74-42b679b99e5c                                2574   \n",
       "6ea6b99e-c247-40d9-87fe-345aab8e87a4                                 939   \n",
       "d28eb06b-19e6-4951-8845-3c7f1484393e                                 474   \n",
       "\n",
       "                                         ...      Soil_Type32  Soil_Type33  \\\n",
       "Id                                       ...                                 \n",
       "832ff325-90ce-40e3-8c74-42b679b99e5c     ...                0            0   \n",
       "6ea6b99e-c247-40d9-87fe-345aab8e87a4     ...                0            0   \n",
       "d28eb06b-19e6-4951-8845-3c7f1484393e     ...                0            0   \n",
       "\n",
       "                                      Soil_Type34  Soil_Type35  Soil_Type36  \\\n",
       "Id                                                                            \n",
       "832ff325-90ce-40e3-8c74-42b679b99e5c            0            0            0   \n",
       "6ea6b99e-c247-40d9-87fe-345aab8e87a4            0            0            0   \n",
       "d28eb06b-19e6-4951-8845-3c7f1484393e            0            0            0   \n",
       "\n",
       "                                      Soil_Type37  Soil_Type38  Soil_Type39  \\\n",
       "Id                                                                            \n",
       "832ff325-90ce-40e3-8c74-42b679b99e5c            0            0            0   \n",
       "6ea6b99e-c247-40d9-87fe-345aab8e87a4            0            0            0   \n",
       "d28eb06b-19e6-4951-8845-3c7f1484393e            0            1            0   \n",
       "\n",
       "                                      Soil_Type40  Cover_Type  \n",
       "Id                                                             \n",
       "832ff325-90ce-40e3-8c74-42b679b99e5c            0           2  \n",
       "6ea6b99e-c247-40d9-87fe-345aab8e87a4            0           3  \n",
       "d28eb06b-19e6-4951-8845-3c7f1484393e            0           7  \n",
       "\n",
       "[3 rows x 55 columns]"
      ]
     },
     "execution_count": 4,
     "metadata": {},
     "output_type": "execute_result"
    }
   ],
   "source": [
    "df_train.head(n=3)"
   ]
  },
  {
   "cell_type": "markdown",
   "metadata": {},
   "source": [
    "# 轉成 numpy array\n",
    "1. 用 .iloc 分開 x 和 y\n",
    "2. 用 .value 得到 numpy array"
   ]
  },
  {
   "cell_type": "code",
   "execution_count": 5,
   "metadata": {},
   "outputs": [
    {
     "data": {
      "text/plain": [
       "array([2941,   32,    4,  108,   12, 3369,  219,  230,  147, 2574,    1,\n",
       "          0,    0,    0,    0,    0,    0,    0,    0,    0,    0,    0,\n",
       "          0,    0,    0,    0,    0,    0,    0,    0,    0,    0,    0,\n",
       "          0,    0,    0,    0,    0,    0,    0,    0,    0,    1,    0,\n",
       "          0,    0,    0,    0,    0,    0,    0,    0,    0,    0])"
      ]
     },
     "execution_count": 5,
     "metadata": {},
     "output_type": "execute_result"
    }
   ],
   "source": [
    "train_x = df_train.iloc[:, :54].values\n",
    "train_x[0]"
   ]
  },
  {
   "cell_type": "markdown",
   "metadata": {},
   "source": [
    "* 用 [:, :54] 會得到 series 取 value 會得到 1 維正列\n",
    "* 用 [:, :54:] 會得到 dataframe，取 value 會得到 2 維正列要在 reshape 才能得到我們預期的 y"
   ]
  },
  {
   "cell_type": "code",
   "execution_count": 6,
   "metadata": {},
   "outputs": [
    {
     "data": {
      "text/plain": [
       "2"
      ]
     },
     "execution_count": 6,
     "metadata": {},
     "output_type": "execute_result"
    }
   ],
   "source": [
    "train_y = df_train.iloc[:, 54].values\n",
    "train_y[0]"
   ]
  },
  {
   "cell_type": "markdown",
   "metadata": {},
   "source": [
    "* 用 [:, 54:]"
   ]
  },
  {
   "cell_type": "code",
   "execution_count": 7,
   "metadata": {},
   "outputs": [
    {
     "name": "stdout",
     "output_type": "stream",
     "text": [
      "[[2]\n",
      " [3]\n",
      " [7]\n",
      " ...\n",
      " [6]\n",
      " [2]\n",
      " [5]]\n"
     ]
    }
   ],
   "source": [
    "print(df_train.iloc[:, 54:].values)"
   ]
  },
  {
   "cell_type": "markdown",
   "metadata": {},
   "source": [
    "# 1. prepocessing"
   ]
  },
  {
   "cell_type": "markdown",
   "metadata": {},
   "source": [
    "## minmax scaler"
   ]
  },
  {
   "cell_type": "code",
   "execution_count": 10,
   "metadata": {},
   "outputs": [],
   "source": [
    "from sklearn.preprocessing import MinMaxScaler\n",
    "\n",
    "scaler = MinMaxScaler()\n",
    "train_x = train_x.astype(np.float32)\n",
    "train_x = scaler.fit_transform(train_x)"
   ]
  },
  {
   "cell_type": "markdown",
   "metadata": {},
   "source": [
    "### 如果要用 numpy 做的話\n",
    "1. 減掉 min 讓最小值為 0\n",
    "2. 除以 range 讓大家在 1~0 之間 (加上 10^-10 是為了避免除以 0)"
   ]
  },
  {
   "cell_type": "code",
   "execution_count": 11,
   "metadata": {},
   "outputs": [],
   "source": [
    "train_x = (train_x - train_x.min(axis=0)) / (train_x.max(axis=0) - train_x.min(axis=0) + 1e-10)"
   ]
  },
  {
   "cell_type": "markdown",
   "metadata": {},
   "source": [
    "### 加 axis=0 的差別 （因為知道沒有 0 故不加上小數）\n",
    "不加 axis=0 則會除以整個 matrix 最大的 range\n",
    "range 在 1~3 的第一個參數雖然在 0~1 之間，但是可以發現他變得超小。\n",
    "本來未了讓所有變數的 range 都差不多的目的還是沒有達成"
   ]
  },
  {
   "cell_type": "code",
   "execution_count": 12,
   "metadata": {},
   "outputs": [
    {
     "name": "stdout",
     "output_type": "stream",
     "text": [
      "[1.81818182e-04 1.00000000e+00]\n",
      "[0.         0.18218182]\n"
     ]
    }
   ],
   "source": [
    "x = np.array([[1, 11001], [2, 2005], [3, 3000]])\n",
    "x = (x - x.min()) / (x.max() - x.min())\n",
    "print(x.max(axis=0))\n",
    "print(x.min(axis=0))"
   ]
  },
  {
   "cell_type": "markdown",
   "metadata": {},
   "source": [
    "## one-hot encoding"
   ]
  },
  {
   "cell_type": "code",
   "execution_count": 13,
   "metadata": {},
   "outputs": [
    {
     "data": {
      "text/plain": [
       "array([2, 3, 7, ..., 6, 2, 5])"
      ]
     },
     "execution_count": 13,
     "metadata": {},
     "output_type": "execute_result"
    }
   ],
   "source": [
    "train_y"
   ]
  },
  {
   "cell_type": "code",
   "execution_count": 14,
   "metadata": {},
   "outputs": [],
   "source": [
    "class_num = int(len(np.unique(train_y))) # 有幾個 class\n",
    "train_y -= train_y.min() # 讓 label 為 0~(class_num-1) 的整數\n",
    "train_y = np.eye(class_num)[(train_y)] # eye 會產生對角線矩陣，取出第幾列則為該類別的one-hot"
   ]
  },
  {
   "cell_type": "markdown",
   "metadata": {},
   "source": [
    "### 以三類為例"
   ]
  },
  {
   "cell_type": "code",
   "execution_count": 15,
   "metadata": {},
   "outputs": [
    {
     "data": {
      "text/plain": [
       "array([[1., 0., 0.],\n",
       "       [0., 1., 0.],\n",
       "       [0., 0., 1.]])"
      ]
     },
     "execution_count": 15,
     "metadata": {},
     "output_type": "execute_result"
    }
   ],
   "source": [
    "np.eye(3) # 產生 3 * 3 對角線矩陣"
   ]
  },
  {
   "cell_type": "code",
   "execution_count": 16,
   "metadata": {},
   "outputs": [
    {
     "data": {
      "text/plain": [
       "array([1., 0., 0.])"
      ]
     },
     "execution_count": 16,
     "metadata": {},
     "output_type": "execute_result"
    }
   ],
   "source": [
    "np.eye(3)[0] # label 為 0 得到的 one-hot (取出 row 0)"
   ]
  },
  {
   "cell_type": "markdown",
   "metadata": {},
   "source": [
    "## train val split"
   ]
  },
  {
   "cell_type": "code",
   "execution_count": 17,
   "metadata": {},
   "outputs": [],
   "source": [
    "from sklearn.model_selection import train_test_split\n",
    "\n",
    "x_train, x_val, y_train, y_val = train_test_split(train_x, train_y, test_size=0.2, random_state=94)"
   ]
  },
  {
   "cell_type": "markdown",
   "metadata": {},
   "source": [
    "# build model"
   ]
  },
  {
   "cell_type": "code",
   "execution_count": 18,
   "metadata": {},
   "outputs": [],
   "source": [
    "epoch = 5\n",
    "batch_size = 64\n",
    "lr = 1e-2"
   ]
  },
  {
   "cell_type": "markdown",
   "metadata": {},
   "source": [
    "## build input layer"
   ]
  },
  {
   "cell_type": "code",
   "execution_count": 19,
   "metadata": {},
   "outputs": [],
   "source": [
    "tf.reset_default_graph() \n",
    "\n",
    "with tf.name_scope('input'):\n",
    "    x_input = tf.placeholder(shape=(None,) +  x_train.shape[1:], \n",
    "                             name='x_input',\n",
    "                             dtype=tf.float32)\n",
    "    y_out = tf.placeholder(shape=(None, class_num), \n",
    "                           name='y_label',\n",
    "                           dtype=tf.float32)"
   ]
  },
  {
   "cell_type": "markdown",
   "metadata": {},
   "source": [
    "## build hidden layer"
   ]
  },
  {
   "cell_type": "code",
   "execution_count": 20,
   "metadata": {},
   "outputs": [
    {
     "name": "stdout",
     "output_type": "stream",
     "text": [
      "Tensor(\"hidden_layer/hidden2/Relu:0\", shape=(?, 256), dtype=float32)\n"
     ]
    }
   ],
   "source": [
    "with tf.variable_scope('hidden_layer'):\n",
    "    x_h1 = tf.layers.dense(inputs=x_input, units=128, activation=tf.nn.relu, name='hidden1')\n",
    "    x_h2 = tf.layers.dense(inputs=x_h1, units=256, activation=tf.nn.relu, name='hidden2')\n",
    "    x_h3 = tf.layers.dense(inputs=x_h2, units=512, activation=tf.nn.relu, name='hidden3')\n",
    "\n",
    "print(x_h2)"
   ]
  },
  {
   "cell_type": "markdown",
   "metadata": {},
   "source": [
    "## build output layer"
   ]
  },
  {
   "cell_type": "code",
   "execution_count": 21,
   "metadata": {},
   "outputs": [],
   "source": [
    "with tf.variable_scope('output_layer'):\n",
    "    output = tf.layers.dense(x_h3, class_num, name='output')"
   ]
  },
  {
   "cell_type": "markdown",
   "metadata": {},
   "source": [
    "## build loss function"
   ]
  },
  {
   "cell_type": "code",
   "execution_count": 22,
   "metadata": {},
   "outputs": [],
   "source": [
    "with tf.name_scope('cross_entropy'):\n",
    "    loss = tf.reduce_mean(\n",
    "        tf.nn.softmax_cross_entropy_with_logits_v2(\n",
    "            logits=output, labels=y_out), name='loss')"
   ]
  },
  {
   "cell_type": "markdown",
   "metadata": {},
   "source": [
    "## predict class\n",
    "過 softmax 不影響相互的大小關係，故不再計算 loss 的狀況下，可以直接用 argmax 判斷 label"
   ]
  },
  {
   "cell_type": "code",
   "execution_count": 23,
   "metadata": {},
   "outputs": [],
   "source": [
    "with tf.name_scope('predict'):\n",
    "    y_pred_cls = tf.argmax(output, axis=1)"
   ]
  },
  {
   "cell_type": "markdown",
   "metadata": {},
   "source": [
    "### argmax 實例"
   ]
  },
  {
   "cell_type": "code",
   "execution_count": 24,
   "metadata": {},
   "outputs": [
    {
     "data": {
      "text/plain": [
       "array([0, 1])"
      ]
     },
     "execution_count": 24,
     "metadata": {},
     "output_type": "execute_result"
    }
   ],
   "source": [
    "y = [[0.5, 0.4, 0.2], [0.4, 0.5, 0.2]]\n",
    "argmax = tf.argmax(y, axis=1)\n",
    "sess = tf.Session()\n",
    "sess.run(argmax)"
   ]
  },
  {
   "cell_type": "markdown",
   "metadata": {},
   "source": [
    "## compute accurary"
   ]
  },
  {
   "cell_type": "code",
   "execution_count": 25,
   "metadata": {},
   "outputs": [],
   "source": [
    "with tf.name_scope('accuracy'):\n",
    "    correct_prediction = tf.equal(y_pred_cls, tf.argmax(y_out, axis=1))\n",
    "    compute_acc = tf.reduce_mean(tf.cast(correct_prediction, tf.float32))"
   ]
  },
  {
   "cell_type": "markdown",
   "metadata": {},
   "source": [
    "### accuracy 詳細步驟\n",
    "2筆資料的 pred 結果為 1, 2，label 為 [0, 1, 0], [1, 0, 0]  \n",
    "用 constant 宣告 pred_y, true_y 是為了不用 intial variable"
   ]
  },
  {
   "cell_type": "code",
   "execution_count": 26,
   "metadata": {},
   "outputs": [],
   "source": [
    "pred_y = tf.constant([1, 2], dtype=tf.int64)\n",
    "true_y = tf.constant([[0, 1, 0], [1, 0, 0]], dtype=tf.int64)"
   ]
  },
  {
   "cell_type": "code",
   "execution_count": 66,
   "metadata": {},
   "outputs": [
    {
     "name": "stdout",
     "output_type": "stream",
     "text": [
      "argmax 結果 [1 0]\n"
     ]
    }
   ],
   "source": [
    "argmax_true_y = tf.argmax(true_y, axis=1)\n",
    "print('argmax 結果', tf.Session().run(argmax_true_y))"
   ]
  },
  {
   "cell_type": "code",
   "execution_count": 67,
   "metadata": {},
   "outputs": [
    {
     "name": "stdout",
     "output_type": "stream",
     "text": [
      "correct 結果 [ True False]\n"
     ]
    }
   ],
   "source": [
    "correct = tf.equal(pred_y, argmax_true_y)\n",
    "print('correct 結果', tf.Session().run(correct))"
   ]
  },
  {
   "cell_type": "code",
   "execution_count": 68,
   "metadata": {},
   "outputs": [
    {
     "name": "stdout",
     "output_type": "stream",
     "text": [
      "cast 結果 [1. 0.]\n"
     ]
    }
   ],
   "source": [
    "cast = tf.cast(correct, tf.float32) # 相當於 np.astype(np.float32)\n",
    "print('cast 結果', tf.Session().run(cast))"
   ]
  },
  {
   "cell_type": "code",
   "execution_count": 69,
   "metadata": {},
   "outputs": [
    {
     "name": "stdout",
     "output_type": "stream",
     "text": [
      "acc 結果 0.5\n"
     ]
    }
   ],
   "source": [
    "acc = tf.reduce_mean(cast) # 相當於 np.mean()\n",
    "print('acc 結果', tf.Session().run(acc))"
   ]
  },
  {
   "cell_type": "markdown",
   "metadata": {},
   "source": [
    "## build optimizer"
   ]
  },
  {
   "cell_type": "code",
   "execution_count": 27,
   "metadata": {},
   "outputs": [],
   "source": [
    "with tf.name_scope('train'):\n",
    "    train_step = tf.train.AdamOptimizer(learning_rate=0.01).minimize(loss)"
   ]
  },
  {
   "cell_type": "markdown",
   "metadata": {},
   "source": [
    "# 2. train your model"
   ]
  },
  {
   "cell_type": "code",
   "execution_count": 29,
   "metadata": {},
   "outputs": [
    {
     "data": {
      "application/vnd.jupyter.widget-view+json": {
       "model_id": "bb495785dd244d888554c6aadd900427",
       "version_major": 2,
       "version_minor": 0
      },
      "text/plain": [
       "HBox(children=(IntProgress(value=0, max=5), HTML(value='')))"
      ]
     },
     "metadata": {},
     "output_type": "display_data"
    },
    {
     "name": "stdout",
     "output_type": "stream",
     "text": [
      "\n",
      "Epoch: 1/5\n",
      "\n",
      "step:     0 - [>-----------------------------]   0% - acc: 0.1406%  - loss: 1.9496 - 325.7 sample/sec\n",
      "step:    60 - [=========>--------------------]  33% - acc: 0.6406%  - loss: 0.7223 - 63146.4 sample/sec\n",
      "step:   120 - [===================>----------]  67% - acc: 0.6094%  - loss: 0.9290 - 56751.7 sample/sec\n",
      "\n",
      "Epoch: 2/5\n",
      "\n",
      "step:     0 - [>-----------------------------]   0% - acc: 0.6719%  - loss: 0.8306 - 55924.1 sample/sec\n",
      "step:    60 - [=========>--------------------]  33% - acc: 0.7656%  - loss: 0.5851 - 56500.8 sample/sec\n",
      "step:   120 - [===================>----------]  67% - acc: 0.6094%  - loss: 0.8267 - 61766.1 sample/sec\n",
      "\n",
      "Epoch: 3/5\n",
      "\n",
      "step:     0 - [>-----------------------------]   0% - acc: 0.6719%  - loss: 0.7282 - 63265.5 sample/sec\n",
      "step:    60 - [=========>--------------------]  33% - acc: 0.6719%  - loss: 0.7120 - 60855.9 sample/sec\n",
      "step:   120 - [===================>----------]  67% - acc: 0.7656%  - loss: 0.5778 - 62137.8 sample/sec\n",
      "\n",
      "Epoch: 4/5\n",
      "\n",
      "step:     0 - [>-----------------------------]   0% - acc: 0.7031%  - loss: 0.6223 - 53187.1 sample/sec\n",
      "step:    60 - [=========>--------------------]  33% - acc: 0.7656%  - loss: 0.5960 - 58906.2 sample/sec\n",
      "step:   120 - [===================>----------]  67% - acc: 0.8125%  - loss: 0.5106 - 60690.8 sample/sec\n",
      "\n",
      "Epoch: 5/5\n",
      "\n",
      "step:     0 - [>-----------------------------]   0% - acc: 0.6406%  - loss: 0.7676 - 58906.2 sample/sec\n",
      "step:    60 - [=========>--------------------]  33% - acc: 0.6719%  - loss: 0.7301 - 60079.6 sample/sec\n",
      "step:   120 - [===================>----------]  67% - acc: 0.7188%  - loss: 0.5792 - 62137.8 sample/sec\n",
      "\n"
     ]
    }
   ],
   "source": [
    "from sklearn.utils import shuffle\n",
    "\n",
    "train_loss_epoch, train_acc_epoch = [], []\n",
    "test_loss_epoch, test_acc_epoch = [], []\n",
    "\n",
    "sess = tf.Session()\n",
    "sess.run(tf.global_variables_initializer())\n",
    "\n",
    "for i in tqdm_notebook(range(epoch)):\n",
    "    \n",
    "    print(\"\\nEpoch: {0}/{1}\\n\".format((i+1), epoch))\n",
    "\n",
    "    train_loss_batch = []\n",
    "    train_acc_batch = []\n",
    "    \n",
    "    # 計算有幾個 batch\n",
    "    total_batch = int(np.ceil(len(x_train) / batch_size))\n",
    "        \n",
    "    x_train, y_train = shuffle(x_train, y_train)\n",
    "    \n",
    "    for j in range(total_batch):\n",
    "        start_time = time.time()\n",
    "\n",
    "        # 執行 update\n",
    "        X_batch = x_train[j * batch_size: min(len(x_train), (j + 1) * batch_size)]\n",
    "        y_batch = y_train[j * batch_size: (j + 1) * batch_size]\n",
    "        batch_loss, batch_acc, _ = sess.run([loss, compute_acc, train_step], \n",
    "                                            feed_dict={x_input: X_batch, y_out: y_batch})\n",
    "        \n",
    "        # 計算 batch 所花的時間\n",
    "        duration = time.time() - start_time\n",
    "        \n",
    "        # 印出結果，每個 epoch 印三次\n",
    "        if j % (total_batch // 3) == 0:\n",
    "            # 計算要印幾個 >\n",
    "            percentage = int(round((j/total_batch)*100))\n",
    "            bar_len = 29\n",
    "            filled_len = int((bar_len*int(percentage))/100)\n",
    "            bar = '=' * filled_len + '>' + '-' * (bar_len - filled_len)\n",
    "\n",
    "            print(f\"step: {j:>5} - [{bar}] {percentage:>3}% - acc: {batch_acc:.4f}%\",\n",
    "                  f\" - loss: {batch_loss:.4f} - {(batch_size / duration):.1f} sample/sec\")\n",
    "\n",
    "        \n",
    "        train_loss_batch.append(batch_loss)\n",
    "        train_acc_batch.append(batch_acc)\n",
    "        \n",
    "    train_loss_epoch.append(np.mean(train_loss_batch))\n",
    "    train_acc_epoch.append(np.mean(train_acc_batch))"
   ]
  },
  {
   "cell_type": "markdown",
   "metadata": {},
   "source": [
    "# 3. visualize training preocess"
   ]
  },
  {
   "cell_type": "code",
   "execution_count": 37,
   "metadata": {},
   "outputs": [
    {
     "data": {
      "image/png": "[encoded data removed]",
      "text/plain": [
       "<Figure size 432x288 with 1 Axes>"
      ]
     },
     "metadata": {
      "needs_background": "light"
     },
     "output_type": "display_data"
    }
   ],
   "source": [
    "plt.plot(train_loss_epoch)\n",
    "plt.title('model loss')\n",
    "plt.ylabel('loss')\n",
    "plt.xlabel('epoch')\n",
    "plt.show()"
   ]
  },
  {
   "cell_type": "code",
   "execution_count": 38,
   "metadata": {},
   "outputs": [
    {
     "data": {
      "image/png": "[encoded data removed]",
      "text/plain": [
       "<Figure size 432x288 with 1 Axes>"
      ]
     },
     "metadata": {
      "needs_background": "light"
     },
     "output_type": "display_data"
    }
   ],
   "source": [
    "plt.plot(train_acc_epoch)\n",
    "plt.title('model accuracy')\n",
    "plt.ylabel('accuracy')\n",
    "plt.xlabel('epoch')\n",
    "plt.show()"
   ]
  },
  {
   "cell_type": "markdown",
   "metadata": {},
   "source": [
    "# 4. batch prediction"
   ]
  },
  {
   "cell_type": "code",
   "execution_count": 31,
   "metadata": {},
   "outputs": [
    {
     "data": {
      "text/plain": [
       "array([2, 6, 0, ..., 0, 0, 0])"
      ]
     },
     "execution_count": 31,
     "metadata": {},
     "output_type": "execute_result"
    }
   ],
   "source": [
    "def predict(x, batch_size=32):\n",
    "    i = 0\n",
    "    predicted_class = np.zeros(shape=len(x), dtype=np.int)\n",
    "    while i < len(x):\n",
    "        j = i + batch_size\n",
    "        batch_xs = x[i: j]\n",
    "        # 計算 predict 結果\n",
    "        predicted_class[i:j] = sess.run(\n",
    "            y_pred_cls,\n",
    "            feed_dict={x_input: batch_xs}\n",
    "        )\n",
    "        i += j\n",
    "    return predicted_class\n",
    "\n",
    "predict(x_val)"
   ]
  },
  {
   "cell_type": "markdown",
   "metadata": {},
   "source": [
    "# 5. compute accuracy"
   ]
  },
  {
   "cell_type": "markdown",
   "metadata": {},
   "source": [
    "計算每次的loss再取平均，小心如果使用 f1-score 不能用 batch 算 (大家可以分成兩的 batch 手算看看)。"
   ]
  },
  {
   "cell_type": "code",
   "execution_count": 32,
   "metadata": {},
   "outputs": [
    {
     "data": {
      "text/plain": [
       "(0.6808236, 0.7056111)"
      ]
     },
     "execution_count": 32,
     "metadata": {},
     "output_type": "execute_result"
    }
   ],
   "source": [
    "def compute_loss_and_accuracy(x, y, batch_size=32):\n",
    "    i = 0\n",
    "    losses = []\n",
    "    accuracy = []\n",
    "    while i < len(x):\n",
    "        j = i + batch_size\n",
    "        batch_xs = x[i: i + batch_size, :]\n",
    "        batch_ys = y[i: i + batch_size, :]\n",
    "        l, acc = sess.run(\n",
    "            [loss, compute_acc],\n",
    "            feed_dict={x_input: batch_xs, y_out: batch_ys}\n",
    "        )\n",
    "        losses.append(l)\n",
    "        accuracy.append(acc)\n",
    "        i += batch_size    \n",
    "    return np.mean(losses), np.mean(accuracy)\n",
    "\n",
    "compute_loss_and_accuracy(x_val, y_val)"
   ]
  },
  {
   "cell_type": "markdown",
   "metadata": {},
   "source": [
    "# 6. callbacks"
   ]
  },
  {
   "cell_type": "markdown",
   "metadata": {},
   "source": [
    "### declare variable"
   ]
  },
  {
   "cell_type": "code",
   "execution_count": 33,
   "metadata": {},
   "outputs": [],
   "source": [
    "global_accuracy = 0 # 存checkpoint用，為當前最高的acc\n",
    "global_non_progress = 0 # early start 用，為目前有幾個epoch沒有進步\n",
    "saver = tf.train.Saver()\n",
    "save_path = './checkpoint/checkpoint.ckpt'"
   ]
  },
  {
   "cell_type": "markdown",
   "metadata": {},
   "source": [
    "### create checkpoint dir\n",
    "建立 check point 資料夾 避免 saver 報錯"
   ]
  },
  {
   "cell_type": "code",
   "execution_count": 44,
   "metadata": {},
   "outputs": [
    {
     "name": "stdout",
     "output_type": "stream",
     "text": [
      "./checkpoint\n"
     ]
    }
   ],
   "source": [
    "directory = os.path.dirname(save_path)\n",
    "print(directory)\n",
    "if not os.path.exists(directory):\n",
    "    os.makedirs(directory)"
   ]
  },
  {
   "cell_type": "markdown",
   "metadata": {},
   "source": [
    "## checkpoint"
   ]
  },
  {
   "cell_type": "code",
   "execution_count": 38,
   "metadata": {},
   "outputs": [
    {
     "name": "stdout",
     "output_type": "stream",
     "text": [
      "\n",
      "Epoch 1 - loss: 0.680824 accuracy: 0.71%\n"
     ]
    },
    {
     "data": {
      "text/plain": [
       "(0.6808236, 0.7056111)"
      ]
     },
     "execution_count": 38,
     "metadata": {},
     "output_type": "execute_result"
    }
   ],
   "source": [
    "def test_and_save(epoch):\n",
    "    global global_accuracy\n",
    "    l, acc = compute_loss_and_accuracy(x_val, y_val)\n",
    "    \n",
    "    \n",
    "    mes = \"\\nEpoch {} - loss: {:2f} accuracy: {:.2f}%\"\n",
    "    print(mes.format((epoch+1), l, acc))\n",
    "\n",
    "    # 如果 acc 比較大，則存 model 並將 global_accuracy 設為此時的 acc\n",
    "    if global_accuracy < acc:\n",
    "\n",
    "        saver.save(sess, save_path=save_path, global_step=epoch)\n",
    "\n",
    "        print(f\"This epoch receive better accuracy: {acc:.2f}% > {global_accuracy:.2f}%.\",\n",
    "              f\" Saving session...\")\n",
    "        \n",
    "        global_accuracy = acc\n",
    "\n",
    "    return l, acc\n",
    "test_and_save(0)"
   ]
  },
  {
   "cell_type": "markdown",
   "metadata": {},
   "source": [
    "## early stop"
   ]
  },
  {
   "cell_type": "code",
   "execution_count": 40,
   "metadata": {},
   "outputs": [],
   "source": [
    "def early_stop(val_acc, steps=50):\n",
    "    global global_accuracy\n",
    "    global global_non_progress\n",
    "\n",
    "    # 如果 global_accuracy 比較大，沒進步epoch數 + 1\n",
    "    if global_accuracy > val_acc:\n",
    "        global_non_progress += 1\n",
    "    \n",
    "    # 如果 acc 比較大，重新計算沒進步epoch數\n",
    "    else:\n",
    "        global_non_progress = 0\n",
    "    \n",
    "    # 如果沒進步epoch數大於 steps 回傳 true 代表需要停止\n",
    "    if global_non_progress > steps:\n",
    "        print(f\"Didn't receive better accuracy after {global_non_progress:2d}\",\n",
    "              \" epochs. Stop traing...\")\n",
    "        return True\n",
    "\n",
    "    return False"
   ]
  },
  {
   "cell_type": "markdown",
   "metadata": {},
   "source": [
    "## weight decay"
   ]
  },
  {
   "cell_type": "markdown",
   "metadata": {},
   "source": [
    "### step decay\n",
    "將 Optimizer 的 lr 用 placeholder 取代直接給一個數值, 讓在執行 sess.run 時，可以決定當前的 learing rate  \n",
    "此處以不同當前 epoch 數決定 lr 為例子"
   ]
  },
  {
   "cell_type": "code",
   "execution_count": 41,
   "metadata": {},
   "outputs": [],
   "source": [
    "learning_rate_t = tf.placeholder(tf.float32, shape=[], name='learning_rate')\n",
    "with tf.name_scope('train_with_sd'):\n",
    "    train_step_with_sd = tf.train.AdamOptimizer(learning_rate=learning_rate_t).minimize(loss)\n",
    "\n",
    "def lr_decay(epoch):\n",
    "    learning_rate = 1e-2\n",
    "    if epoch > 400:\n",
    "        learning_rate *= 1e-3\n",
    "    elif epoch > 200:\n",
    "        learning_rate *= 1e-2\n",
    "    elif epoch > 100:\n",
    "        learning_rate *= 1e-1\n",
    "    return learning_rate"
   ]
  },
  {
   "cell_type": "markdown",
   "metadata": {},
   "source": [
    "### exponential decay"
   ]
  },
  {
   "cell_type": "markdown",
   "metadata": {},
   "source": [
    "$$ decayed\\_learning\\_rate = learning\\_rate *\n",
    "                        decay\\_rate ^{ (global\\_step \\; / \\; decay\\_steps)} $$"
   ]
  },
  {
   "cell_type": "markdown",
   "metadata": {},
   "source": [
    "由 tensorflow 控制的 lr  \n",
    "https://www.tensorflow.org/api_docs/python/tf/train/exponential_decay"
   ]
  },
  {
   "cell_type": "code",
   "execution_count": 42,
   "metadata": {},
   "outputs": [],
   "source": [
    "learning_rate_decay = tf.train.exponential_decay(1e-2, epoch, 100, 0.96, staircase=True)\n",
    "with tf.name_scope('train_with_ed'):\n",
    "    train_step_with_ed = tf.train.AdamOptimizer(learning_rate=learning_rate_decay).minimize(loss)"
   ]
  },
  {
   "cell_type": "markdown",
   "metadata": {},
   "source": [
    "# 7. train again"
   ]
  },
  {
   "cell_type": "code",
   "execution_count": 43,
   "metadata": {},
   "outputs": [
    {
     "data": {
      "application/vnd.jupyter.widget-view+json": {
       "model_id": "a7961b23d4434569baf6c751663c672c",
       "version_major": 2,
       "version_minor": 0
      },
      "text/plain": [
       "HBox(children=(IntProgress(value=0, max=5), HTML(value='')))"
      ]
     },
     "metadata": {},
     "output_type": "display_data"
    },
    {
     "name": "stdout",
     "output_type": "stream",
     "text": [
      "\n",
      "Epoch: 1/5\n",
      "\n",
      "step:     0 - [>-----------------------------]   0% - acc: 0.2188%  - loss: 1.9459 - 1362.4 sample/sec\n",
      "step:    60 - [=========>--------------------]  33% - acc: 0.5469%  - loss: 0.9486 - 54560.1 sample/sec\n",
      "step:   120 - [===================>----------]  67% - acc: 0.6719%  - loss: 0.9395 - 58725.8 sample/sec\n",
      "\n",
      "Epoch 1 - loss: 0.808876 accuracy: 0.66%\n",
      "\n",
      "Epoch: 2/5\n",
      "\n",
      "step:     0 - [>-----------------------------]   0% - acc: 0.6094%  - loss: 0.8802 - 54962.2 sample/sec\n",
      "step:    60 - [=========>--------------------]  33% - acc: 0.6719%  - loss: 0.8021 - 64188.3 sample/sec\n",
      "step:   120 - [===================>----------]  67% - acc: 0.6562%  - loss: 0.9245 - 51286.9 sample/sec\n",
      "\n",
      "Epoch 2 - loss: 0.740570 accuracy: 0.69%\n",
      "\n",
      "Epoch: 3/5\n",
      "\n",
      "step:     0 - [>-----------------------------]   0% - acc: 0.7031%  - loss: 0.7394 - 60938.8 sample/sec\n",
      "step:    60 - [=========>--------------------]  33% - acc: 0.7031%  - loss: 0.6663 - 56382.2 sample/sec\n",
      "step:   120 - [===================>----------]  67% - acc: 0.6719%  - loss: 0.7713 - 59546.5 sample/sec\n",
      "\n",
      "Epoch 3 - loss: 0.746054 accuracy: 0.69%\n",
      "\n",
      "Epoch: 4/5\n",
      "\n",
      "step:     0 - [>-----------------------------]   0% - acc: 0.7344%  - loss: 0.6191 - 54560.1 sample/sec\n",
      "step:    60 - [=========>--------------------]  33% - acc: 0.6719%  - loss: 0.6538 - 54939.7 sample/sec\n",
      "step:   120 - [===================>----------]  67% - acc: 0.6719%  - loss: 0.7220 - 61440.9 sample/sec\n",
      "\n",
      "Epoch 4 - loss: 0.793056 accuracy: 0.65%\n",
      "\n",
      "Epoch: 5/5\n",
      "\n",
      "step:     0 - [>-----------------------------]   0% - acc: 0.6406%  - loss: 0.7921 - 41082.9 sample/sec\n",
      "step:    60 - [=========>--------------------]  33% - acc: 0.7188%  - loss: 0.7343 - 57162.6 sample/sec\n",
      "step:   120 - [===================>----------]  67% - acc: 0.7344%  - loss: 0.6653 - 57902.4 sample/sec\n",
      "\n",
      "Epoch 5 - loss: 0.669161 accuracy: 0.72%\n",
      "This epoch receive better accuracy: 0.72% > 0.71%.  Saving session...\n",
      "\n"
     ]
    }
   ],
   "source": [
    "train_loss_epoch, train_acc_epoch = [], []\n",
    "test_loss_epoch, test_acc_epoch = [], []\n",
    "\n",
    "use_step_decay = True\n",
    "use_exponential_decay = True\n",
    "\n",
    "sess = tf.Session()\n",
    "sess.run(tf.global_variables_initializer())\n",
    "\n",
    "epoch=500 #調高 epoch 看 early stop 的運作\n",
    "\n",
    "for i in tqdm_notebook(range(epoch)):\n",
    "    \n",
    "    print(\"\\nEpoch: {0}/{1}\\n\".format((i+1), epoch))\n",
    "\n",
    "    train_loss_batch = []\n",
    "    train_acc_batch = []\n",
    "    \n",
    "    total_batch = int(np.ceil(len(x_train) / batch_size))\n",
    "        \n",
    "    x_train, y_train = shuffle(x_train, y_train)\n",
    "    \n",
    "    for j in range(total_batch):\n",
    "        start_time = time.time()\n",
    "\n",
    "        X_batch = x_train[j * batch_size: (j + 1) * batch_size]\n",
    "        y_batch = y_train[j * batch_size: (j + 1) * batch_size]\n",
    "        \n",
    "        if use_step_decay:\n",
    "            # 用自己控制的 lr\n",
    "            batch_loss, batch_acc, _ = sess.run([loss, compute_acc, train_step_with_sd], \n",
    "                                                 feed_dict={x_input: X_batch, y_out: y_batch, learning_rate_t:lr_decay(i)})\n",
    "        elif use_exponential_decay:\n",
    "            # 用 tf 控制的 lr\n",
    "            batch_loss, batch_acc, _ = sess.run([loss, compute_acc, train_step_with_ed], \n",
    "                                                 feed_dict={x_input: X_batch, y_out: y_batch})\n",
    "        else:\n",
    "            # 用固定的 lr\n",
    "            batch_loss, batch_acc, _ = sess.run([loss, compute_acc, train_step], \n",
    "                                                 feed_dict={x_input: X_batch, y_out: y_batch})\n",
    "        \n",
    "        duration = time.time() - start_time\n",
    "        \n",
    "        if j % (total_batch // 3) == 0:\n",
    "            percentage = int(round((j/total_batch)*100))\n",
    "            bar_len = 29\n",
    "            filled_len = int((bar_len*int(percentage))/100)\n",
    "            bar = '=' * filled_len + '>' + '-' * (bar_len - filled_len)\n",
    "\n",
    "            print(f\"step: {j:>5} - [{bar}] {percentage:>3}% - acc: {batch_acc:.4f}%\",\n",
    "                  f\" - loss: {batch_loss:.4f} - {(batch_size / duration):.1f} sample/sec\")\n",
    "\n",
    "        train_loss_batch.append(batch_loss)\n",
    "        train_acc_batch.append(batch_acc)    \n",
    "        \n",
    "    train_loss_epoch.append(np.mean(train_loss_batch))\n",
    "    train_acc_epoch.append(np.mean(train_acc_batch))\n",
    "    \n",
    "    # 每個 epoch 計算 val acc 並判斷是否要存檔\n",
    "    val_loss, val_acc = test_and_save(i)\n",
    "\n",
    "    test_loss_epoch.append(val_loss)\n",
    "    test_acc_epoch.append(val_acc)\n",
    "    \n",
    "    # 每個 epoch 確認是否停止訓練\n",
    "    if early_stop(val_acc):\n",
    "        break\n"
   ]
  },
  {
   "cell_type": "markdown",
   "metadata": {},
   "source": [
    "# 8. visualize learnig process"
   ]
  },
  {
   "cell_type": "code",
   "execution_count": 56,
   "metadata": {},
   "outputs": [
    {
     "data": {
      "image/png": "[encoded data removed]",
      "text/plain": [
       "<Figure size 432x288 with 1 Axes>"
      ]
     },
     "metadata": {
      "needs_background": "light"
     },
     "output_type": "display_data"
    }
   ],
   "source": [
    "plt.plot(train_loss_epoch)\n",
    "plt.plot(test_loss_epoch)\n",
    "plt.title('model loss')\n",
    "plt.ylabel('loss')\n",
    "plt.xlabel('epoch')\n",
    "plt.legend(['train', 'test'], loc='upper left')\n",
    "plt.show()"
   ]
  },
  {
   "cell_type": "code",
   "execution_count": 57,
   "metadata": {},
   "outputs": [
    {
     "data": {
      "image/png": "[encoded data removed]",
      "text/plain": [
       "<Figure size 432x288 with 1 Axes>"
      ]
     },
     "metadata": {
      "needs_background": "light"
     },
     "output_type": "display_data"
    }
   ],
   "source": [
    "plt.plot(train_acc_epoch)\n",
    "plt.plot(test_acc_epoch)\n",
    "plt.title('model accuracy')\n",
    "plt.ylabel('accuracy')\n",
    "plt.xlabel('epoch')\n",
    "plt.legend(['train', 'test'], loc='upper left')\n",
    "plt.show()"
   ]
  },
  {
   "cell_type": "markdown",
   "metadata": {},
   "source": [
    "# 9. predict test data"
   ]
  },
  {
   "cell_type": "markdown",
   "metadata": {},
   "source": [
    "不用 idx_col=0 因為寫 csv 需要 id"
   ]
  },
  {
   "cell_type": "code",
   "execution_count": 52,
   "metadata": {},
   "outputs": [],
   "source": [
    "df_test = pd.read_csv('data/test.csv')\n",
    "test_x = scaler.transform(df_test.iloc[:, 1:].values)\n",
    "result = predict(test_x) + 1"
   ]
  },
  {
   "cell_type": "markdown",
   "metadata": {},
   "source": [
    "### 寫 csv 檔"
   ]
  },
  {
   "cell_type": "code",
   "execution_count": 53,
   "metadata": {},
   "outputs": [],
   "source": [
    "with open('result.csv', 'w') as f:\n",
    "    f.write('id,class\\n')\n",
    "    \n",
    "    for i, r in df_test.iterrows():\n",
    "        f.write('%s,%d\\n' % (r[0], result[i]))"
   ]
  },
  {
   "cell_type": "code",
   "execution_count": null,
   "metadata": {},
   "outputs": [],
   "source": []
  }
 ],
 "metadata": {
  "kernelspec": {
   "display_name": "Python 3",
   "language": "python",
   "name": "python3"
  },
  "language_info": {
   "codemirror_mode": {
    "name": "ipython",
    "version": 3
   },
   "file_extension": ".py",
   "mimetype": "text/x-python",
   "name": "python",
   "nbconvert_exporter": "python",
   "pygments_lexer": "ipython3",
   "version": "3.6.6"
  }
 },
 "nbformat": 4,
 "nbformat_minor": 2
}
